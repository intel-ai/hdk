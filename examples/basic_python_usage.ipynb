{
 "cells": [
  {
   "cell_type": "code",
   "execution_count": 1,
   "id": "fdef23a7",
   "metadata": {},
   "outputs": [],
   "source": [
    "# Initialization\n",
    "import pyhdk \n",
    "\n",
    "# Uses DBID 1\n",
    "pyhdk.initLogger()\n",
    "config = pyhdk.buildConfig()\n",
    "storage = pyhdk.storage.ArrowStorage(1)\n",
    "data_mgr = pyhdk.storage.DataMgr(config)\n",
    "data_mgr.registerDataProvider(storage)\n",
    "\n",
    "calcite = pyhdk.sql.Calcite(storage, config)\n",
    "executor = pyhdk.Executor(data_mgr, config)"
   ]
  },
  {
   "cell_type": "code",
   "execution_count": 2,
   "id": "a5af996c",
   "metadata": {},
   "outputs": [],
   "source": [
    "# Helper Functions\n",
    "def get_rel_alg(sql):\n",
    "    return calcite.process(sql)\n",
    "\n",
    "def run_query(sql):\n",
    "    ra = get_rel_alg(sql)\n",
    "    # One RelAlgExecutor per query\n",
    "    rel_alg_executor = pyhdk.sql.RelAlgExecutor(executor, storage, data_mgr, ra)\n",
    "    return rel_alg_executor.execute()"
   ]
  },
  {
   "cell_type": "code",
   "execution_count": null,
   "id": "3b771266",
   "metadata": {},
   "outputs": [],
   "source": [
    "## Examples \n",
    "\n",
    "# Load some data\n",
    "import pandas\n",
    "import pyarrow as pa\n",
    "\n",
    "tbl = pa.Table.from_pandas(pandas.DataFrame({\"a\": [1, 2, 3], \"b\": [10, 20, 30]}))\n",
    "opt = pyhdk.storage.TableOptions(2)\n",
    "storage.importArrowTable(tbl, \"test\", opt)\n",
    "\n",
    "# Basic query\n",
    "print(run_query(\"SELECT * FROM test;\").to_arrow().to_pandas())\n",
    "\n",
    "print(run_query(\"SELECT a, count(*), sum(b) FROM test GROUP BY a;\").to_arrow().to_pandas())\n",
    "\n",
    "# Cleanup\n",
    "storage.dropTable(\"test\")"
   ]
  },
  {
   "cell_type": "code",
   "execution_count": null,
   "id": "24e70d3f",
   "metadata": {},
   "outputs": [],
   "source": []
  }
 ],
 "metadata": {
  "kernelspec": {
   "display_name": "Python 3 (ipykernel)",
   "language": "python",
   "name": "python3"
  },
  "language_info": {
   "codemirror_mode": {
    "name": "ipython",
    "version": 3
   },
   "file_extension": ".py",
   "mimetype": "text/x-python",
   "name": "python",
   "nbconvert_exporter": "python",
   "pygments_lexer": "ipython3",
   "version": "3.9.13"
  }
 },
 "nbformat": 4,
 "nbformat_minor": 5
}
