{
 "cells": [
  {
   "cell_type": "code",
   "execution_count": 1,
   "id": "fdef23a7",
   "metadata": {},
   "outputs": [],
   "source": [
    "# Initialization\n",
    "import pyhdk \n",
    "import pandas\n",
    "import pyarrow as pa\n",
    "\n",
    "hdk = pyhdk.hdk.HDK(\n",
    "    debug_logs=\"INFO\", # generates log file, DEBUG2 for more verbosity \n",
    ") "
   ]
  },
  {
   "cell_type": "code",
   "execution_count": 2,
   "id": "a5af996c",
   "metadata": {},
   "outputs": [],
   "source": [
    "tbl = pa.Table.from_pandas(pandas.DataFrame({\"a\": [1, 2, 3], \"b\": [10, 20, 30]}))\n",
    "hdk_tbl = hdk.import_arrow(tbl, \"test\")"
   ]
  },
  {
   "cell_type": "code",
   "execution_count": null,
   "id": "3b771266",
   "metadata": {},
   "outputs": [],
   "source": [
    "# Basic query\n",
    "print(hdk.sql(\"SELECT * FROM test;\").to_arrow().to_pandas())\n",
    "\n",
    "print(hdk.sql(\"SELECT a, count(*), sum(b) FROM test GROUP BY a;\").to_arrow().to_pandas())\n",
    "\n",
    "# Cleanup\n",
    "hdk.drop_table(\"test\")"
   ]
  }
 ],
 "metadata": {
  "kernelspec": {
   "display_name": "Python 3 (ipykernel)",
   "language": "python",
   "name": "python3"
  },
  "language_info": {
   "codemirror_mode": {
    "name": "ipython",
    "version": 3
   },
   "file_extension": ".py",
   "mimetype": "text/x-python",
   "name": "python",
   "nbconvert_exporter": "python",
   "pygments_lexer": "ipython3",
   "version": "3.9.16"
  }
 },
 "nbformat": 4,
 "nbformat_minor": 5
}
